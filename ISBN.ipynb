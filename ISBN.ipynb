{
 "cells": [
  {
   "cell_type": "code",
   "execution_count": 4,
   "metadata": {},
   "outputs": [
    {
     "name": "stdout",
     "output_type": "stream",
     "text": [
      "please input an ISBN number: 978-962-8899-01-2\n",
      "36\n",
      "40\n",
      "True\n"
     ]
    }
   ],
   "source": [
    "ISBN = input(\"please input an ISBN number: \")\n",
    "\n",
    "oddSum = 0\n",
    "evenSum = 0\n",
    "wordPlace = 1\n",
    "for i, num in enumerate(ISBN[:-1]):\n",
    "    if(num == '-'):\n",
    "        pass\n",
    "    else:\n",
    "        if(wordPlace%2 == 0):\n",
    "            evenSum += int(num)\n",
    "        else:\n",
    "            oddSum += int(num)\n",
    "        wordPlace += 1\n",
    "\n",
    "totalSum = oddSum * 1 + evenSum * 3\n",
    "\n",
    "res = str(10 - totalSum % 10)\n",
    "if(res == '10'):\n",
    "    res = 'x'\n",
    "\n",
    "\n",
    "if(res == ISBN[-1]):\n",
    "    print(\"True\")\n",
    "else:\n",
    "    print(\"False\")"
   ]
  },
  {
   "cell_type": "code",
   "execution_count": null,
   "metadata": {},
   "outputs": [],
   "source": []
  }
 ],
 "metadata": {
  "kernelspec": {
   "display_name": "Python 3",
   "language": "python",
   "name": "python3"
  },
  "language_info": {
   "codemirror_mode": {
    "name": "ipython",
    "version": 3
   },
   "file_extension": ".py",
   "mimetype": "text/x-python",
   "name": "python",
   "nbconvert_exporter": "python",
   "pygments_lexer": "ipython3",
   "version": "3.6.5"
  }
 },
 "nbformat": 4,
 "nbformat_minor": 2
}
