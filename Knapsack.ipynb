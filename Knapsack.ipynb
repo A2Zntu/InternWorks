{
 "cells": [
  {
   "cell_type": "code",
   "execution_count": 10,
   "metadata": {},
   "outputs": [
    {
     "name": "stdout",
     "output_type": "stream",
     "text": [
      "number of treasure: 5\n",
      "b\n",
      "50\n",
      "2\n",
      "c\n",
      "100\n",
      "16\n",
      "d\n",
      "52\n",
      "9\n",
      "e\n",
      "55\n",
      "3\n",
      "f\n",
      "60\n",
      "2\n",
      "19\n"
     ]
    }
   ],
   "source": [
    "numTreasure = input(\"number of treasure: \")\n",
    "\n",
    "numTreasure = int(numTreasure)\n",
    "maxWeight = 20\n",
    "nameList = []\n",
    "valueList = []\n",
    "weightList = []\n",
    "for i in range(numTreasure):\n",
    "    name = input()\n",
    "    value = int(input())\n",
    "    weight = int(input())\n",
    "    nameList.append(name)\n",
    "    valueList.append(value)\n",
    "    weightList.append(weight)\n",
    "\n",
    "    \n",
    "def swap(dropIndex, keepIndex, weightList, curWeight):\n",
    "    del packList[dropIndex]\n",
    "    packList.append(keepIndex)\n",
    "    curWeight = curWeight + weightList[keepIndex] - weightList[dropIndex]\n",
    "    return curWeight\n",
    "        \n",
    "curWeight = 0\n",
    "packList = []\n",
    "for i in range(numTreasure):\n",
    "    if(curWeight + weightList[i] <= maxWeight):\n",
    "        packList.append(i) # i th treasure\n",
    "        curWeight += weightList[i]\n",
    "    else:\n",
    "        for j in range(len(packList)-1, -1, -1):\n",
    "            if((curWeight - weightList[packList[j]]) + weightList[i] <= maxWeight and valueList[j] < valueList[i]):\n",
    "                curWeight = swap(j, i, weightList, curWeight)\n",
    "\n",
    "\n",
    "print(curWeight)"
   ]
  },
  {
   "cell_type": "code",
   "execution_count": 8,
   "metadata": {},
   "outputs": [
    {
     "name": "stdout",
     "output_type": "stream",
     "text": [
      "['b', 'c', 'd', 'e', 'f']\n",
      "[50, 100, 52, 55, 60]\n",
      "[2, 16, 9, 3, 2]\n"
     ]
    }
   ],
   "source": [
    "print(nameList)\n",
    "print(valueList)\n",
    "print(weightList)"
   ]
  },
  {
   "cell_type": "code",
   "execution_count": 11,
   "metadata": {},
   "outputs": [
    {
     "data": {
      "text/plain": [
       "[[0, 0, 0, 0, 0, 0, 0, 0, 0, 0, 0, 0, 0, 0, 0, 0, 0, 0, 0, 0, 0],\n",
       " [0, 0, 0, 0, 0, 0, 0, 0, 0, 0, 0, 0, 0, 0, 0, 0, 0, 0, 0, 0, 0],\n",
       " [0, 0, 0, 0, 0, 0, 0, 0, 0, 0, 0, 0, 0, 0, 0, 0, 0, 0, 0, 0, 0],\n",
       " [0, 0, 0, 0, 0, 0, 0, 0, 0, 0, 0, 0, 0, 0, 0, 0, 0, 0, 0, 0, 0],\n",
       " [0, 0, 0, 0, 0, 0, 0, 0, 0, 0, 0, 0, 0, 0, 0, 0, 0, 0, 0, 0, 0],\n",
       " [0, 0, 0, 0, 0, 0, 0, 0, 0, 0, 0, 0, 0, 0, 0, 0, 0, 0, 0, 0, 0]]"
      ]
     },
     "execution_count": 11,
     "metadata": {},
     "output_type": "execute_result"
    }
   ],
   "source": [
    "K = [[0 for x in range(maxWeight + 1)] for x in range(int(numTreasure) + 1)] \n",
    "K"
   ]
  },
  {
   "cell_type": "code",
   "execution_count": 17,
   "metadata": {},
   "outputs": [],
   "source": [
    "def knapSack(maxW, wL, vL, num): \n",
    "    K = [[0 for x in range(maxW + 1)] for x in range(num + 1)] \n",
    "  \n",
    "    for i in range(num + 1): \n",
    "        for w in range(maxW + 1): \n",
    "            if i == 0 or w == 0: \n",
    "                K[i][w] = 0 #base case\n",
    "            elif wL[i-1] <= w: \n",
    "                K[i][w] = max(vL[i-1] + K[i-1][w - wL[i-1]],  K[i-1][w]) \n",
    "            else: \n",
    "                K[i][w] = K[i-1][w] \n",
    "  \n",
    "    return K[num][maxW] "
   ]
  },
  {
   "cell_type": "code",
   "execution_count": 18,
   "metadata": {},
   "outputs": [
    {
     "data": {
      "text/plain": [
       "217"
      ]
     },
     "execution_count": 18,
     "metadata": {},
     "output_type": "execute_result"
    }
   ],
   "source": [
    "knapSack(20, weightList, valueList, int(numTreasure))"
   ]
  }
 ],
 "metadata": {
  "kernelspec": {
   "display_name": "Python 3",
   "language": "python",
   "name": "python3"
  }
 },
 "nbformat": 4,
 "nbformat_minor": 2
}
