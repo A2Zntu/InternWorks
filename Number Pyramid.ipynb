{
 "cells": [
  {
   "cell_type": "code",
   "execution_count": 56,
   "metadata": {},
   "outputs": [
    {
     "name": "stdout",
     "output_type": "stream",
     "text": [
      "How many rows include: 10\n",
      "         1\n",
      "        121\n",
      "       12321\n",
      "      1234321\n",
      "     123454321\n",
      "    12345654321\n",
      "   1234567654321\n",
      "  123456787654321\n",
      " 12345678987654321\n",
      "12345678910987654321\n",
      " 12345678987654321\n",
      "  123456787654321\n",
      "   1234567654321\n",
      "    12345654321\n",
      "     123454321\n",
      "      1234321\n",
      "       12321\n",
      "        121\n",
      "         1\n"
     ]
    }
   ],
   "source": [
    "nRows = input(\"How many rows include: \")\n",
    "\n",
    "nRows = int(nRows)\n",
    "Lines = []\n",
    "for i in range(1, nRows + 1):\n",
    "    line = [elm for elm in (range(1,i))]\n",
    "    line2 = line[::-1]\n",
    "    line.append(i)\n",
    "    line.extend(line2)\n",
    "    Lines.append(line)\n",
    "\n",
    "center = 1\n",
    "tempList = []\n",
    "for line in Lines:\n",
    "    lineLength = len(line)\n",
    "    strnum = ''\n",
    "    for num in line:\n",
    "        strnum = strnum + str(num)\n",
    "    spaceNum = nRows - center\n",
    "    LineRows = ' '*(spaceNum) + strnum\n",
    "    tempList.append(LineRows)\n",
    "    center += 1\n",
    "    print(LineRows)\n",
    "\n",
    "for i in range(len(tempList)-2, -1, -1):\n",
    "    print(tempList[i])"
   ]
  },
  {
   "cell_type": "markdown",
   "metadata": {},
   "source": [
    "    1\n",
    "   121\n",
    "  12321\n",
    " 1234321\n",
    "123454321\n",
    " 1234321\n",
    "  12321\n",
    "   121\n",
    "    1"
   ]
  }
 ],
 "metadata": {
  "kernelspec": {
   "display_name": "Python 3",
   "language": "python",
   "name": "python3"
  },
  "language_info": {
   "codemirror_mode": {
    "name": "ipython",
    "version": 3
   },
   "file_extension": ".py",
   "mimetype": "text/x-python",
   "name": "python",
   "nbconvert_exporter": "python",
   "pygments_lexer": "ipython3",
   "version": "3.6.5"
  }
 },
 "nbformat": 4,
 "nbformat_minor": 2
}
