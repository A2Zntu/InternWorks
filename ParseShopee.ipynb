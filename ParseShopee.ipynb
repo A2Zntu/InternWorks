{
 "cells": [
  {
   "cell_type": "code",
   "execution_count": 25,
   "metadata": {},
   "outputs": [],
   "source": [
    "from bs4 import BeautifulSoup \n",
    "import requests\n",
    "from selenium import webdriver\n",
    "from selenium.webdriver.common.keys import Keys\n",
    "from selenium.webdriver import ActionChains\n",
    "from selenium.webdriver.support.ui import WebDriverWait\n",
    "import pandas as pd\n",
    "import matplotlib.pyplot as plt\n",
    "import os\n",
    "import numpy as np\n",
    "import time\n",
    "import re\n",
    "import warnings\n",
    "import json \n",
    "warnings.filterwarnings('ignore')"
   ]
  },
  {
   "cell_type": "markdown",
   "metadata": {},
   "source": [
    "## Set up and Find shopee input "
   ]
  },
  {
   "cell_type": "code",
   "execution_count": 36,
   "metadata": {},
   "outputs": [],
   "source": [
    "# chrome setup\n",
    "url = 'https://shopee.tw/mall'\n",
    "results_path = str(os.path.join(os.getcwd(), 'data'))\n",
    "chrome_options = webdriver.ChromeOptions() \n",
    "prefs = {'download.default_directory' : results_path}\n",
    "chrome_options.add_experimental_option('prefs', prefs)\n",
    "\n",
    "main_driver = webdriver.Chrome('C:\\\\webdrivers\\\\chromedriver', options = chrome_options)  \n",
    "main_driver.implicitly_wait(5) #wait for 5 minutes\n",
    "main_driver.get(url)\n",
    "\n",
    "input_btn_ele = main_driver.find_element_by_xpath('//*[@id=\"main\"]/div/div[2]/div[1]/div/div[2]/div[1]/div/div[4]/div[1]/div/form/input')\n",
    "input_btn_ele.clear()\n",
    "input_btn_ele.send_keys(\"耳環\")\n",
    "\n",
    "main_driver.implicitly_wait(2)\n",
    "search_btn_ele = main_driver.find_element_by_xpath('//*[@id=\"main\"]/div/div[2]/div[1]/div/div[2]/div[1]/div/div[4]/div[1]/button')\n",
    "search_btn_ele.click()\n",
    "\n",
    "html = main_driver.find_element_by_tag_name('html')\n",
    "html.send_keys(Keys.END)\n"
   ]
  },
  {
   "cell_type": "code",
   "execution_count": 55,
   "metadata": {},
   "outputs": [
    {
     "name": "stdout",
     "output_type": "stream",
     "text": [
      "70\n",
      "48\n",
      "139\n"
     ]
    },
    {
     "ename": "ValueError",
     "evalue": "invalid literal for int() with base 10: '109 - $119'",
     "output_type": "error",
     "traceback": [
      "\u001b[1;31m---------------------------------------------------------------------------\u001b[0m",
      "\u001b[1;31mValueError\u001b[0m                                Traceback (most recent call last)",
      "\u001b[1;32m<ipython-input-55-42c6bd156f48>\u001b[0m in \u001b[0;36m<module>\u001b[1;34m()\u001b[0m\n\u001b[0;32m     14\u001b[0m         \u001b[1;32mfor\u001b[0m \u001b[0mprice_tag\u001b[0m \u001b[1;32min\u001b[0m \u001b[0ma\u001b[0m\u001b[1;33m.\u001b[0m\u001b[0mfind\u001b[0m\u001b[1;33m(\u001b[0m\u001b[1;34m\"div\"\u001b[0m\u001b[1;33m,\u001b[0m \u001b[0mclass_\u001b[0m \u001b[1;33m=\u001b[0m \u001b[1;34m\"_36zw98\"\u001b[0m\u001b[1;33m)\u001b[0m\u001b[1;33m:\u001b[0m\u001b[1;33m\u001b[0m\u001b[1;33m\u001b[0m\u001b[0m\n\u001b[0;32m     15\u001b[0m             \u001b[1;32mif\u001b[0m\u001b[1;33m(\u001b[0m\u001b[0mprice_tag\u001b[0m\u001b[1;33m.\u001b[0m\u001b[0mtext\u001b[0m \u001b[1;33m!=\u001b[0m \u001b[1;34m''\u001b[0m\u001b[1;33m)\u001b[0m\u001b[1;33m:\u001b[0m\u001b[1;33m\u001b[0m\u001b[1;33m\u001b[0m\u001b[0m\n\u001b[1;32m---> 16\u001b[1;33m                 \u001b[0mtemp_price\u001b[0m \u001b[1;33m=\u001b[0m \u001b[0mint\u001b[0m\u001b[1;33m(\u001b[0m\u001b[0mprice_tag\u001b[0m\u001b[1;33m.\u001b[0m\u001b[0mtext\u001b[0m\u001b[1;33m[\u001b[0m\u001b[1;36m1\u001b[0m\u001b[1;33m:\u001b[0m\u001b[1;33m]\u001b[0m\u001b[1;33m)\u001b[0m\u001b[1;33m\u001b[0m\u001b[1;33m\u001b[0m\u001b[0m\n\u001b[0m\u001b[0;32m     17\u001b[0m                 \u001b[0mprint\u001b[0m\u001b[1;33m(\u001b[0m\u001b[0mtemp_price\u001b[0m\u001b[1;33m)\u001b[0m\u001b[1;33m\u001b[0m\u001b[1;33m\u001b[0m\u001b[0m\n\u001b[0;32m     18\u001b[0m                 \u001b[0mspItemPrices\u001b[0m\u001b[1;33m.\u001b[0m\u001b[0mappend\u001b[0m\u001b[1;33m(\u001b[0m\u001b[0mprice_tag\u001b[0m\u001b[1;33m.\u001b[0m\u001b[0mtext\u001b[0m\u001b[1;33m)\u001b[0m\u001b[1;33m\u001b[0m\u001b[1;33m\u001b[0m\u001b[0m\n",
      "\u001b[1;31mValueError\u001b[0m: invalid literal for int() with base 10: '109 - $119'"
     ]
    }
   ],
   "source": [
    "ps = main_driver.page_source\n",
    "soup = BeautifulSoup(ps, 'html.parser')\n",
    "\n",
    "spItemNames = []\n",
    "spItemPrices = []\n",
    "spItemLoc = []\n",
    "for a in soup.findAll(\"div\", class_=\"col-xs-2-4 shopee-search-item-result__item\"):\n",
    "\n",
    "    try:\n",
    "        spitems = a.find(\"div\", class_ = \"_1NoI8_ _2gr36I\").text\n",
    "        spItemNames.append(spitems)\n",
    "        \n",
    "\n",
    "        for price_tag in a.find(\"div\", class_ = \"_36zw98\"):\n",
    "            if(price_tag.text != ''):\n",
    "                print(temp_price)\n",
    "                spItemPrices.append(price_tag.text)\n",
    "        \n",
    "        sploc = a.find(\"div\", class_ = \"_3amru2\").text\n",
    "        spItemLoc.append(sploc)\n",
    "        \n",
    "    except AttributeError:\n",
    "        pass\n",
    "    \n",
    "# print(len(spItemNames))\n",
    "# print(spItemPrices)\n",
    "# print(len(spItemLoc))"
   ]
  },
  {
   "cell_type": "code",
   "execution_count": 15,
   "metadata": {},
   "outputs": [
    {
     "data": {
      "text/plain": [
       "['[免運] 【KELRA】925銀耳針可愛小耳環耳夾',\n",
       " '[免運] 【KELRA】正韓珠光耳環耳夾',\n",
       " '[免運] 【KELRA】韓劇銀針耳環/耳夾',\n",
       " '[免運] 【KELRA】防水防過敏圓圈耳環耳夾',\n",
       " '[免運] 【KELRA】925銀防過敏耳針小耳環耳夾',\n",
       " '韓國小三角幾何耳環 夾式 針式 925銀針  【Bonjouracc】',\n",
       " '韓國小葉珍珠耳環 針式 夾式 【Bonjouracc】',\n",
       " '韓國浪漫仿水晶捕夢網 耳環  夾式 針式 【Bonjouracc】',\n",
       " '韓國垂墜小立體小方塊耳環 夾式 針式 【Bonjouracc】',\n",
       " '【HanVo】玻璃瓶小耳環 可愛路線袖珍食物特色垂吊式搞怪玻璃瓶造型耳環耳針耳洞時尚百搭款 韓衣風格7011',\n",
       " '小圈圓球耳骨環 中性耳環 [925純銀] 極簡 第九章【CHF038】',\n",
       " '氣質典雅菱形幾何框線穿洞式耳環【I018】',\n",
       " '[免運] 【KELRA】925銀耳針不對稱圓圈垂墜耳環耳夾',\n",
       " '圈圈耳環 迷你耳環 [925純銀] 耳骨 中性耳環 防過敏【CHF014】',\n",
       " '[免運] 【KELRA】正韓一字方形圓圈垂墜耳環耳夾']"
      ]
     },
     "execution_count": 15,
     "metadata": {},
     "output_type": "execute_result"
    }
   ],
   "source": [
    "spItemNames"
   ]
  }
 ],
 "metadata": {
  "kernelspec": {
   "display_name": "Python 3",
   "language": "python",
   "name": "python3"
  },
  "language_info": {
   "codemirror_mode": {
    "name": "ipython",
    "version": 3
   },
   "file_extension": ".py",
   "mimetype": "text/x-python",
   "name": "python",
   "nbconvert_exporter": "python",
   "pygments_lexer": "ipython3",
   "version": "3.7.4"
  }
 },
 "nbformat": 4,
 "nbformat_minor": 2
}
