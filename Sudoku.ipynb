{
 "cells": [
  {
   "cell_type": "code",
   "execution_count": 1,
   "metadata": {},
   "outputs": [
    {
     "name": "stdout",
     "output_type": "stream",
     "text": [
      "Input question or answer: answer\n",
      "6\n"
     ]
    }
   ],
   "source": [
    "inputWord = input(\"Input question or answer: \")\n",
    "\n",
    "from itertools import product\n",
    "\n",
    "a = [1, 2, 3]\n",
    "allComninations = list(product(a, repeat=3))\n",
    "newComb = []\n",
    "for comb in allComninations:\n",
    "    if(sum(comb) == 6 and comb[0] != comb[1]):\n",
    "        newComb.append(comb)\n",
    "\n",
    "times = 0\n",
    "newCombLen = len(newComb)\n",
    "combs = newComb\n",
    "res = 0\n",
    "for i in range(newCombLen):\n",
    "    first_row = combs[0]\n",
    "    for j in range(1, newCombLen):\n",
    "        second_row = combs[j]\n",
    "        for z in range(j+1, newCombLen):\n",
    "            third_row = combs[z]\n",
    "            times += 1\n",
    "            colSum1 = first_row[0] + second_row[0] + third_row[0]\n",
    "            colSum2 = first_row[1] + second_row[1] + third_row[1]\n",
    "            if(colSum1 == 6 and colSum2 == 6):\n",
    "                res += 1\n",
    "            \n",
    "    curFirstComb = combs[0]\n",
    "    combs = combs[1:] \n",
    "    combs.append(curFirstComb)\n",
    "        \n",
    "        \n",
    "if inputWord == 'question':\n",
    "    print(0)\n",
    "elif inputWord == 'answer':\n",
    "    print(res)"
   ]
  },
  {
   "cell_type": "code",
   "execution_count": null,
   "metadata": {},
   "outputs": [],
   "source": []
  },
  {
   "cell_type": "code",
   "execution_count": 19,
   "metadata": {},
   "outputs": [
    {
     "data": {
      "text/plain": [
       "[(1, 2, 3), (1, 3, 2), (2, 1, 3), (2, 3, 1), (3, 1, 2), (3, 2, 1)]"
      ]
     },
     "execution_count": 19,
     "metadata": {},
     "output_type": "execute_result"
    }
   ],
   "source": [
    "from itertools import product\n",
    "\n",
    "a = [1, 2, 3]\n",
    "allComninations = list(product(a, repeat=3))\n",
    "newComb = []\n",
    "for comb in allComninations:\n",
    "    if(sum(comb) == 6 and comb[0] != comb[1]):\n",
    "        newComb.append(comb)\n",
    "newComb"
   ]
  }
 ],
 "metadata": {
  "kernelspec": {
   "display_name": "Python 3",
   "language": "python",
   "name": "python3"
  },
  "language_info": {
   "codemirror_mode": {
    "name": "ipython",
    "version": 3
   },
   "file_extension": ".py",
   "mimetype": "text/x-python",
   "name": "python",
   "nbconvert_exporter": "python",
   "pygments_lexer": "ipython3",
   "version": "3.6.5"
  }
 },
 "nbformat": 4,
 "nbformat_minor": 2
}
