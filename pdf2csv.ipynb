{
 "cells": [
  {
   "cell_type": "code",
   "execution_count": 1,
   "metadata": {},
   "outputs": [],
   "source": [
    "from pdfminer.pdfinterp import PDFResourceManager, PDFPageInterpreter\n",
    "from pdfminer.converter import TextConverter\n",
    "from pdfminer.layout import LAParams\n",
    "from io import StringIO, open\n",
    "from pdfminer.pdfpage import PDFPage\n",
    "import os"
   ]
  },
  {
   "cell_type": "code",
   "execution_count": 3,
   "metadata": {},
   "outputs": [],
   "source": [
    "work_dir = os.getcwd()\n",
    "pdf_dir = os.path.join(work_dir, 'pdf')\n",
    "txt_dir = os.path.join(work_dir, 'txtDir')"
   ]
  },
  {
   "cell_type": "code",
   "execution_count": 21,
   "metadata": {},
   "outputs": [
    {
     "data": {
      "text/html": [
       "<div>\n",
       "<style scoped>\n",
       "    .dataframe tbody tr th:only-of-type {\n",
       "        vertical-align: middle;\n",
       "    }\n",
       "\n",
       "    .dataframe tbody tr th {\n",
       "        vertical-align: top;\n",
       "    }\n",
       "\n",
       "    .dataframe thead th {\n",
       "        text-align: right;\n",
       "    }\n",
       "</style>\n",
       "<table border=\"1\" class=\"dataframe\">\n",
       "  <thead>\n",
       "    <tr style=\"text-align: right;\">\n",
       "      <th></th>\n",
       "      <th>Item</th>\n",
       "      <th>note</th>\n",
       "      <th>2009</th>\n",
       "      <th>2010</th>\n",
       "      <th>2010(US)</th>\n",
       "    </tr>\n",
       "  </thead>\n",
       "  <tbody>\n",
       "    <tr>\n",
       "      <td>0</td>\n",
       "      <td>NaN</td>\n",
       "      <td>NaN</td>\n",
       "      <td>NaN</td>\n",
       "      <td>NaN</td>\n",
       "      <td>(Note 2(d))</td>\n",
       "    </tr>\n",
       "    <tr>\n",
       "      <td>1</td>\n",
       "      <td>Deferred rental</td>\n",
       "      <td>NaN</td>\n",
       "      <td>155,612</td>\n",
       "      <td>191,034</td>\n",
       "      <td>28,945</td>\n",
       "    </tr>\n",
       "    <tr>\n",
       "      <td>2</td>\n",
       "      <td>Deferred revenues, non-current</td>\n",
       "      <td>NaN</td>\n",
       "      <td>45,240</td>\n",
       "      <td>56,996</td>\n",
       "      <td>8,636</td>\n",
       "    </tr>\n",
       "    <tr>\n",
       "      <td>3</td>\n",
       "      <td>Deposits</td>\n",
       "      <td>NaN</td>\n",
       "      <td>20,735</td>\n",
       "      <td>33,454</td>\n",
       "      <td>5,069</td>\n",
       "    </tr>\n",
       "    <tr>\n",
       "      <td>4</td>\n",
       "      <td>Unfavorable lease liability</td>\n",
       "      <td>7</td>\n",
       "      <td>14,585</td>\n",
       "      <td>13,211</td>\n",
       "      <td>2,002</td>\n",
       "    </tr>\n",
       "  </tbody>\n",
       "</table>\n",
       "</div>"
      ],
      "text/plain": [
       "                             Item note     2009     2010     2010(US)\n",
       "0                             NaN  NaN      NaN      NaN  (Note 2(d))\n",
       "1                 Deferred rental  NaN  155,612  191,034       28,945\n",
       "2  Deferred revenues, non-current  NaN   45,240   56,996        8,636\n",
       "3                        Deposits  NaN   20,735   33,454        5,069\n",
       "4     Unfavorable lease liability    7   14,585   13,211        2,002"
      ]
     },
     "execution_count": 21,
     "metadata": {},
     "output_type": "execute_result"
    }
   ],
   "source": [
    "import tabula\n",
    "df = tabula.read_pdf(os.path.join(pdf_dir, \"2010 Financial Statements.pdf\"), pages = '5')\n",
    "df.columns = ['Item', 'note', '2009', '2010', '2010(US)']\n",
    "# in order to print first 5 lines of Table\n",
    "df.head(5)"
   ]
  },
  {
   "cell_type": "markdown",
   "metadata": {},
   "source": [
    "#### 有中文 encoding='utf_8_sig'"
   ]
  },
  {
   "cell_type": "code",
   "execution_count": 22,
   "metadata": {},
   "outputs": [],
   "source": [
    "df.to_csv(os.path.join(txt_dir, \"balance_sheet2.csv\"))"
   ]
  }
 ],
 "metadata": {
  "kernelspec": {
   "display_name": "Python 3",
   "language": "python",
   "name": "python3"
  },
  "language_info": {
   "codemirror_mode": {
    "name": "ipython",
    "version": 3
   },
   "file_extension": ".py",
   "mimetype": "text/x-python",
   "name": "python",
   "nbconvert_exporter": "python",
   "pygments_lexer": "ipython3",
   "version": "3.7.4"
  }
 },
 "nbformat": 4,
 "nbformat_minor": 2
}
