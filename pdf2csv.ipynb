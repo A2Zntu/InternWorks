{
 "cells": [
  {
   "cell_type": "code",
   "execution_count": 1,
   "metadata": {},
   "outputs": [],
   "source": [
    "from pdfminer.pdfinterp import PDFResourceManager, PDFPageInterpreter\n",
    "from pdfminer.converter import TextConverter\n",
    "from pdfminer.layout import LAParams\n",
    "from io import StringIO, open\n",
    "from pdfminer.pdfpage import PDFPage\n",
    "import os"
   ]
  },
  {
   "cell_type": "code",
   "execution_count": 2,
   "metadata": {},
   "outputs": [],
   "source": [
    "work_dir = os.getcwd()\n",
    "pdf_dir = os.path.join(work_dir, 'pdf')\n",
    "txt_dir = os.path.join(work_dir, 'txtDir')"
   ]
  },
  {
   "cell_type": "code",
   "execution_count": 7,
   "metadata": {},
   "outputs": [
    {
     "name": "stderr",
     "output_type": "stream",
     "text": [
      "Got stderr: 十二月 15, 2019 3:12:53 下午 org.apache.pdfbox.pdmodel.font.PDCIDFontType2 <init>\r\n",
      "資訊: OpenType Layout tables used in font ABCDEE+¼Ð·¢Åé are not implemented in PDFBox and will be ignored\r\n",
      "\n"
     ]
    }
   ],
   "source": [
    "import tabula\n",
    "df = tabula.read_pdf(\"107Industry.pdf\", pages = 'all')\n",
    "# in order to print first 5 lines of Table\n"
   ]
  },
  {
   "cell_type": "code",
   "execution_count": 11,
   "metadata": {},
   "outputs": [],
   "source": [
    "df.columns = ['標準代號', '第8次 小業別', '擴大書審純益率', '所得額標準', '毛利率', '費用率', '淨利率']"
   ]
  },
  {
   "cell_type": "code",
   "execution_count": 22,
   "metadata": {},
   "outputs": [],
   "source": [
    "df.to_csv(os.path.join(txt_dir, \"output.csv\"), encoding='utf_8_sig')"
   ]
  }
 ],
 "metadata": {
  "kernelspec": {
   "display_name": "Python 3",
   "language": "python",
   "name": "python3"
  },
  "language_info": {
   "codemirror_mode": {
    "name": "ipython",
    "version": 3
   },
   "file_extension": ".py",
   "mimetype": "text/x-python",
   "name": "python",
   "nbconvert_exporter": "python",
   "pygments_lexer": "ipython3",
   "version": "3.7.4"
  }
 },
 "nbformat": 4,
 "nbformat_minor": 2
}
